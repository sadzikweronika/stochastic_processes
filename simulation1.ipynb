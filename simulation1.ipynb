{
 "cells": [
  {
   "cell_type": "markdown",
   "source": [
    "Weronika Sadzik\n",
    "Procesy stochastyczne 2023/24\n",
    "Symulacje nr 1"
   ],
   "metadata": {
    "collapsed": false
   },
   "id": "9b54c083891077de"
  },
  {
   "cell_type": "code",
   "execution_count": 1,
   "id": "initial_id",
   "metadata": {
    "collapsed": true,
    "ExecuteTime": {
     "end_time": "2023-10-14T19:20:09.565115Z",
     "start_time": "2023-10-14T19:20:09.139826Z"
    }
   },
   "outputs": [],
   "source": [
    "import numpy as np\n",
    "import matplotlib.pyplot as plt"
   ]
  },
  {
   "cell_type": "markdown",
   "source": [
    "## Zadanie 2"
   ],
   "metadata": {
    "collapsed": false
   },
   "id": "361783ba6e289c4b"
  },
  {
   "cell_type": "markdown",
   "source": [
    "Treść zadania: Niech $X$ będzie zmienną losową o rozkładzie wykładniczym z parametrem $\\lambda > 0$. Wyznacz $\\mathbb{E}(X|X>t)$ dla ustalonego $t>0$."
   ],
   "metadata": {
    "collapsed": false
   },
   "id": "6cbf896f051a074f"
  },
  {
   "cell_type": "code",
   "execution_count": 2,
   "outputs": [],
   "source": [
    "# tutaj można dowolnie dobrać parametry\n",
    "t = 5\n",
    "exp_lambda = 0.01\n",
    "N = int(1e5)"
   ],
   "metadata": {
    "collapsed": false,
    "ExecuteTime": {
     "end_time": "2023-10-14T19:20:09.570866Z",
     "start_time": "2023-10-14T19:20:09.567489Z"
    }
   },
   "id": "ff6f27e8de7a5a8b"
  },
  {
   "cell_type": "code",
   "execution_count": 3,
   "outputs": [],
   "source": [
    "def conditional_ex_ex2(t, exp_lambda, N, display=True):\n",
    "    samples = np.random.exponential(1/exp_lambda, N)\n",
    "    # wysumlowana wartość oczekiwana\n",
    "    estimated_ex = np.mean(samples[samples > t])\n",
    "    # realna wartość oczekiwana\n",
    "    real_ex = t + 1/exp_lambda\n",
    "    if display:\n",
    "        print(\n",
    "            f\"Paramaters taken: t = {t}, lambda = {exp_lambda}, N = {N}\",\n",
    "            f\"Estimated conditional expectation is {estimated_ex}\",\n",
    "            f\"Real conditional expectation is {real_ex}\",\n",
    "            f'Absolute error is {np.abs(real_ex - estimated_ex)}',\n",
    "            sep='\\n'\n",
    "        )\n",
    "    return estimated_ex, real_ex"
   ],
   "metadata": {
    "collapsed": false,
    "ExecuteTime": {
     "end_time": "2023-10-14T19:20:09.575764Z",
     "start_time": "2023-10-14T19:20:09.573108Z"
    }
   },
   "id": "85c5b7da440130eb"
  },
  {
   "cell_type": "code",
   "execution_count": 4,
   "outputs": [
    {
     "name": "stdout",
     "output_type": "stream",
     "text": [
      "Paramaters taken: t = 5, lambda = 0.01, N = 100000\n",
      "Estimated conditional expectation is 104.76549218954537\n",
      "Real conditional expectation is 105.0\n",
      "Absolute error is 0.23450781045463032\n"
     ]
    },
    {
     "data": {
      "text/plain": "(104.76549218954537, 105.0)"
     },
     "execution_count": 4,
     "metadata": {},
     "output_type": "execute_result"
    }
   ],
   "source": [
    "conditional_ex_ex2(t, exp_lambda, N)"
   ],
   "metadata": {
    "collapsed": false,
    "ExecuteTime": {
     "end_time": "2023-10-14T19:20:09.624441Z",
     "start_time": "2023-10-14T19:20:09.580480Z"
    }
   },
   "id": "51cf04f7b684bb67"
  },
  {
   "cell_type": "markdown",
   "source": [
    "Poza klasycznym wysymulowaniem warunkowej wartości oczekiwanej, chciałam również w każdym z tych zadań zobaczyć, jak wygląda zależność błędu bezwględnego między realną WWO, a wysumulowaną od N. W związku z tym na końcu każdego z zadań zamieszone są wykresy log-log błędu od N."
   ],
   "metadata": {
    "collapsed": false
   },
   "id": "f5a5876597eafdcf"
  },
  {
   "cell_type": "code",
   "execution_count": 5,
   "outputs": [],
   "source": [
    "Ns = np.linspace(10, 1e8, 20, dtype=int)\n",
    "errors = []\n",
    "for N in Ns:\n",
    "    estimated_ex, real_ex = conditional_ex_ex2(t, exp_lambda, N, False)\n",
    "    errors.append(np.abs(estimated_ex - real_ex)) "
   ],
   "metadata": {
    "collapsed": false,
    "ExecuteTime": {
     "end_time": "2023-10-14T19:20:37.455927Z",
     "start_time": "2023-10-14T19:20:09.594314Z"
    }
   },
   "id": "5222975e33a35110"
  },
  {
   "cell_type": "code",
   "execution_count": 6,
   "outputs": [
    {
     "data": {
      "text/plain": "<Figure size 640x480 with 1 Axes>",
      "image/png": "[encoded data removed]"
     },
     "metadata": {},
     "output_type": "display_data"
    }
   ],
   "source": [
    "plt.scatter(np.log(Ns), np.log(errors))\n",
    "plt.title(\"log-log plot of N versus error - exercise 2\")\n",
    "plt.xlabel(\"log(N)\")\n",
    "plt.ylabel(\"log(error)\")\n",
    "plt.show()"
   ],
   "metadata": {
    "collapsed": false,
    "ExecuteTime": {
     "end_time": "2023-10-14T19:20:37.639741Z",
     "start_time": "2023-10-14T19:20:37.454511Z"
    }
   },
   "id": "ca86949490722f6b"
  },
  {
   "cell_type": "markdown",
   "source": [
    "## Zadanie 3"
   ],
   "metadata": {
    "collapsed": false
   },
   "id": "9014fe5af1f2c1e"
  },
  {
   "cell_type": "markdown",
   "source": [
    "Treść zadania: Niech $X$ będzie liczbą orłów otrzymanych przy dwukrotnym rzucie monetą. Wyznacz warunkową wartość oczekiwaną X pod warunkiem, że w pierwszym rzucie wypadł orzeł."
   ],
   "metadata": {
    "collapsed": false
   },
   "id": "b49c8a11ff94672a"
  },
  {
   "cell_type": "code",
   "execution_count": 7,
   "outputs": [],
   "source": [
    "# tutaj można dowolnie dobrać parametry\n",
    "N = int(1e5)"
   ],
   "metadata": {
    "collapsed": false,
    "ExecuteTime": {
     "end_time": "2023-10-14T19:20:37.640267Z",
     "start_time": "2023-10-14T19:20:37.637265Z"
    }
   },
   "id": "3312911e1d056c37"
  },
  {
   "cell_type": "code",
   "execution_count": 8,
   "outputs": [],
   "source": [
    "def conditional_ex_ex3(N, display=True):\n",
    "    samples1 = np.random.randint(0, 2, N)\n",
    "    samples2 = np.random.randint(0, 2, N)\n",
    "    # wysymulowana wartość oczekiwana\n",
    "    estimated_ex = np.mean((samples1 + samples2)[samples1 == 1])\n",
    "    # realna wartość oczekiwana\n",
    "    real_ex = 1.5\n",
    "    if display:\n",
    "        print(\n",
    "            f\"Paramater taken: N = {N}\",\n",
    "            f\"Estimated conditional expectation is: {estimated_ex}\",\n",
    "            f\"Real conditional expectation is: {real_ex}\",\n",
    "            f'Absolute error is {np.abs(real_ex - estimated_ex)}',\n",
    "            sep='\\n'\n",
    "        )\n",
    "    return estimated_ex, real_ex"
   ],
   "metadata": {
    "collapsed": false,
    "ExecuteTime": {
     "end_time": "2023-10-14T19:20:37.645858Z",
     "start_time": "2023-10-14T19:20:37.642442Z"
    }
   },
   "id": "64342e273888c673"
  },
  {
   "cell_type": "code",
   "execution_count": 9,
   "outputs": [
    {
     "name": "stdout",
     "output_type": "stream",
     "text": [
      "Paramater taken: N = 100000\n",
      "Estimated conditional expectation is: 1.4990076779664414\n",
      "Real conditional expectation is: 1.5\n",
      "Absolute error is 0.0009923220335585903\n"
     ]
    },
    {
     "data": {
      "text/plain": "(1.4990076779664414, 1.5)"
     },
     "execution_count": 9,
     "metadata": {},
     "output_type": "execute_result"
    }
   ],
   "source": [
    "conditional_ex_ex3(N)"
   ],
   "metadata": {
    "collapsed": false,
    "ExecuteTime": {
     "end_time": "2023-10-14T19:20:37.658107Z",
     "start_time": "2023-10-14T19:20:37.647527Z"
    }
   },
   "id": "59f4db9438dcfd82"
  },
  {
   "cell_type": "code",
   "execution_count": 10,
   "outputs": [],
   "source": [
    "Ns = np.linspace(10, 1e8, 20, dtype=int)\n",
    "errors = []\n",
    "for N in Ns:\n",
    "    estimated_ex, real_ex = conditional_ex_ex3(N, False)\n",
    "    errors.append(np.abs(estimated_ex - real_ex))"
   ],
   "metadata": {
    "collapsed": false,
    "ExecuteTime": {
     "end_time": "2023-10-14T19:21:06.280482Z",
     "start_time": "2023-10-14T19:20:37.655552Z"
    }
   },
   "id": "2e0bc23cf217f2be"
  },
  {
   "cell_type": "code",
   "execution_count": 11,
   "outputs": [
    {
     "name": "stderr",
     "output_type": "stream",
     "text": [
      "/var/folders/_5/526nz6wj4mz6zqplxtt3ls680000gn/T/ipykernel_44343/972008250.py:1: RuntimeWarning: divide by zero encountered in log\n",
      "  plt.scatter(np.log(Ns), np.log(errors))\n"
     ]
    },
    {
     "data": {
      "text/plain": "<Figure size 640x480 with 1 Axes>",
      "image/png": "[encoded data removed]"
     },
     "metadata": {},
     "output_type": "display_data"
    }
   ],
   "source": [
    "plt.scatter(np.log(Ns), np.log(errors))\n",
    "plt.title(\"log-log plot of N versus error - exercise 3\")\n",
    "plt.xlabel(\"log(N)\")\n",
    "plt.ylabel(\"log(error)\")\n",
    "plt.show()"
   ],
   "metadata": {
    "collapsed": false,
    "ExecuteTime": {
     "end_time": "2023-10-14T19:21:06.456720Z",
     "start_time": "2023-10-14T19:21:06.274471Z"
    }
   },
   "id": "74c8bdec0e26e4de"
  },
  {
   "cell_type": "markdown",
   "source": [
    "## Zadanie 4"
   ],
   "metadata": {
    "collapsed": false
   },
   "id": "d8e2df2f468efd92"
  },
  {
   "cell_type": "markdown",
   "source": [
    "Treść zadania: Niech $X$ będzie zmienną losową o rozkładzie Poissona. Wyznacz warunkową wartość oczekiwaną $X$ pod warunkiem, że $X$ jest parzyste."
   ],
   "metadata": {
    "collapsed": false
   },
   "id": "7d67402d4cdd95"
  },
  {
   "cell_type": "code",
   "execution_count": 15,
   "outputs": [],
   "source": [
    "# tutaj można dowolnie dobrać parametry\n",
    "lambda_poisson = 3\n",
    "N = int(1e6)"
   ],
   "metadata": {
    "collapsed": false,
    "ExecuteTime": {
     "end_time": "2023-10-14T19:21:18.327628Z",
     "start_time": "2023-10-14T19:21:18.325032Z"
    }
   },
   "id": "de71f9e4527d52ac"
  },
  {
   "cell_type": "code",
   "execution_count": 16,
   "outputs": [],
   "source": [
    "def conditional_ex_ex4(lambda_poisson, N, display=True):\n",
    "    samples = np.random.poisson(lambda_poisson, N)\n",
    "    # wysymulowana wartość oczekiwana\n",
    "    estimated_ex = np.mean(samples[samples % 2 == 0])\n",
    "    # realna wartość oczekiwana\n",
    "    real_ex = lambda_poisson * (1 - np.exp(-2 * lambda_poisson)) / (1 + np.exp(-2 * lambda_poisson))\n",
    "    if display:\n",
    "        print(\n",
    "            f\"Paramaters taken: lambda = {lambda_poisson}, N = {N}\",\n",
    "            f\"Estimated conditional expectation is: {estimated_ex}\",\n",
    "            f\"Real conditional expectation is: {real_ex}\",\n",
    "            f'Absolute error is {np.abs(real_ex - estimated_ex)}',\n",
    "            sep='\\n'\n",
    "        )\n",
    "    return estimated_ex, real_ex"
   ],
   "metadata": {
    "collapsed": false,
    "ExecuteTime": {
     "end_time": "2023-10-14T19:21:18.777265Z",
     "start_time": "2023-10-14T19:21:18.776263Z"
    }
   },
   "id": "a73565b973068f82"
  },
  {
   "cell_type": "code",
   "execution_count": 17,
   "outputs": [
    {
     "name": "stdout",
     "output_type": "stream",
     "text": [
      "Paramaters taken: lambda = 3, N = 1000000\n",
      "Estimated conditional expectation is: 2.986065014006662\n",
      "Real conditional expectation is: 2.9851642610601914\n",
      "Absolute error is 0.0009007529464706288\n"
     ]
    },
    {
     "data": {
      "text/plain": "(2.986065014006662, 2.9851642610601914)"
     },
     "execution_count": 17,
     "metadata": {},
     "output_type": "execute_result"
    }
   ],
   "source": [
    "conditional_ex_ex4(lambda_poisson, N)"
   ],
   "metadata": {
    "collapsed": false,
    "ExecuteTime": {
     "end_time": "2023-10-14T19:21:19.297911Z",
     "start_time": "2023-10-14T19:21:19.201784Z"
    }
   },
   "id": "51fc7e4d3e9346f0"
  },
  {
   "cell_type": "code",
   "execution_count": 18,
   "outputs": [],
   "source": [
    "Ns = np.linspace(10, 1e8, 20, dtype=int)\n",
    "errors = []\n",
    "for N in Ns:\n",
    "    estimated_ex, real_ex = conditional_ex_ex4(lambda_poisson, N, False)\n",
    "    errors.append(np.abs(estimated_ex - real_ex))"
   ],
   "metadata": {
    "collapsed": false,
    "ExecuteTime": {
     "end_time": "2023-10-14T19:22:45.360908Z",
     "start_time": "2023-10-14T19:21:20.135752Z"
    }
   },
   "id": "534647af3a027062"
  },
  {
   "cell_type": "code",
   "execution_count": 19,
   "outputs": [
    {
     "data": {
      "text/plain": "<Figure size 640x480 with 1 Axes>",
      "image/png": "[encoded data removed]"
     },
     "metadata": {},
     "output_type": "display_data"
    }
   ],
   "source": [
    "plt.scatter(np.log(Ns), np.log(errors))\n",
    "plt.title(\"log-log plot of N versus error - exercise 4\")\n",
    "plt.xlabel(\"log(N)\")\n",
    "plt.ylabel(\"log(error)\")\n",
    "plt.show()"
   ],
   "metadata": {
    "collapsed": false,
    "ExecuteTime": {
     "end_time": "2023-10-14T19:22:45.467057Z",
     "start_time": "2023-10-14T19:22:45.366906Z"
    }
   },
   "id": "16145ed3e1243d51"
  },
  {
   "cell_type": "markdown",
   "source": [
    "## Komentarz do wykresów log-log"
   ],
   "metadata": {
    "collapsed": false
   },
   "id": "cf91cc6e487fee17"
  },
  {
   "cell_type": "markdown",
   "source": [
    "Niestety, punkty nie układają się na prostej (więc nawet nie dokładałam linii na wykresie), więc nie obserwujemy zależności potęgowej między błędem, a N. Możliwe, że jest to kwestia arytmetyki fl."
   ],
   "metadata": {
    "collapsed": false
   },
   "id": "d38becfefbcb5a67"
  }
 ],
 "metadata": {
  "kernelspec": {
   "display_name": "Python 3",
   "language": "python",
   "name": "python3"
  },
  "language_info": {
   "codemirror_mode": {
    "name": "ipython",
    "version": 2
   },
   "file_extension": ".py",
   "mimetype": "text/x-python",
   "name": "python",
   "nbconvert_exporter": "python",
   "pygments_lexer": "ipython2",
   "version": "2.7.6"
  }
 },
 "nbformat": 4,
 "nbformat_minor": 5
}
